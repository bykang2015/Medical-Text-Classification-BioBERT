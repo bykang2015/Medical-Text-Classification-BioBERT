import re
import pandas as pd
from google.colab import files
import io
from collections import Counter
import chardet

# 개선된 PancreaticRadiologyAnalyzer 클래스
class PancreaticRadiologyAnalyzer:
    def __init__(self):
        # 위치 패턴 - 한글/영어 표현 모두 포함
        self.LOCATION_PATTERNS = {
            'head': re.compile(r'\bhead\b|\b두부\b|\b췌두부\b|\b췌장\s*두부\b', re.IGNORECASE),
            'body': re.compile(r'\bbody\b|\b체부\b|\b췌체부\b|\b췌장\s*체부\b', re.IGNORECASE),
            'tail': re.compile(r'\btail\b|\b미부\b|\b췌미부\b|\b췌장\s*미부\b', re.IGNORECASE),
            'neck': re.compile(r'\bneck\b|\b경부\b|\b췌경부\b|\b췌장\s*경부\b', re.IGNORECASE),
            'uncinate process': re.compile(r'\buncinate process\b|\b구상돌기\b|\b췌장\s*구상돌기\b', re.IGNORECASE),
            'whole pancreas': re.compile(r'\bwhole pancreas\b|\b췌장\s*전체\b|\b전체\s*췌장\b', re.IGNORECASE)
        }

        # 크기 패턴 - 다양한 표현 방식 포함
        self.SIZE_PATTERN = re.compile(r'(\d+\.?\d*)\s*(?:mm|cm|㎜|㎝)', re.IGNORECASE)

        # 추가 크기 패턴
        self.ADDITIONAL_SIZE_PATTERNS = [
            # "약 X cm 크기" 형태
            re.compile(r'약\s+(\d+\.?\d*)\s*(?:mm|cm|㎜|㎝)(?:\s*(?:크기|size))?', re.IGNORECASE),
            # "XcmYmm 크기" 형태 (공백 없는 경우)
            re.compile(r'(\d+\.?\d*)(?:mm|cm|㎜|㎝)(?:\s*(?:크기|size))?', re.IGNORECASE),
            # 범위 표현: "X-Y cm" 형태
            re.compile(r'(\d+\.?\d*)[~\-](\d+\.?\d*)\s*(?:mm|cm|㎜|㎝)', re.IGNORECASE),
            # 변화 표현: "Xcm에서 Ycm으로" 형태
            re.compile(r'(\d+\.?\d*)\s*(?:mm|cm|㎜|㎝)(?:\s*에서\s*)(\d+\.?\d*)\s*(?:mm|cm|㎜|㎝)(?:\s*으?로)', re.IGNORECASE)
        ]

        # 변화 정보 패턴
        self.CHANGE_PATTERN = re.compile(
            r'\b(?:increased|decreased|no change|interval change|increased in size|'
            r'decreased in size|newly appeared|disappeared|resolution|improvement|'
            r'aggravation|progression|변화|증가|감소|커짐|작아짐|새롭게|interval|increase|'
            r'decrease|larger|smaller|slightly|somewhat|mild|moderate|marked)\b',
            re.IGNORECASE
        )

        # 신호 강도 패턴
        self.SIGNAL_PATTERN = re.compile(r'\b(?:high|low|iso)\s*(?:signal|intensity)', re.IGNORECASE)

        # 한글 인코딩 오류 매핑
        self.KOREAN_MAPPINGS = {
            '媛?': '간',
            '鍮꾩옣': '비장',
            '?대궘': '담낭',
            '?좎옣': '신장',
            '?섑옣': '췌장',
            '?앺넻': '흉부',
            '寃고곷': '결과',
            '?뚮Т': '무우',
        }

        # Complex lesion 패턴
        self.COMPLEX_LESION_TYPES = {
            'septated cystic lesion': [
                r'\bseptated\s+cystic\b',
                r'\bmultiseptated\b',
                r'\bseptation\b',
                r'\bseptated\b'
            ],
            'lobulated cystic lesion': [
                r'\blobulated\s+cystic\b',
                r'\blobular\s+cystic\b',
                r'\blobulated\b',
                r'\blobular\b'
            ],
            'cystic nodule': [
                r'\bcystic\s+nodule\b',
                r'\bcystic.*?nodule\b',
                r'\bnodule.*?cystic\b'
            ],
            'cystic mass': [
                r'\bcystic\s+mass\b',
                r'\bcystic.*?mass\b',
                r'\bmass.*?cystic\b'
            ],
            'branch duct IPMN': [
                r'\bbranch\s+duct\s+(?:type\s+)?IPMN\b',
                r'\b(?:IPMN|intraductal\s+papillary\s+mucinous\s+neoplasm).*?branch\s+duct\b'
            ],
            'main duct IPMN': [
                r'\bmain\s+duct\s+(?:type\s+)?IPMN\b',
                r'\b(?:IPMN|intraductal\s+papillary\s+mucinous\s+neoplasm).*?main\s+duct\b'
            ]
        }

    def detect_encoding(self, text_bytes):
        """바이트 데이터의 인코딩 탐지"""
        if not isinstance(text_bytes, bytes):
            try:
                text_bytes = text_bytes.encode('utf-8', errors='replace')
            except:
                return 'utf-8'  # 변환 실패 시 기본값

        result = chardet.detect(text_bytes)
        return result['encoding'] if result['encoding'] else 'utf-8'

    def fix_korean_encoding(self, text):
        """한글 인코딩 오류 수정 함수"""
        if not isinstance(text, str):
            return ""

        # 기본 패턴 매핑
        for wrong, correct in self.KOREAN_MAPPINGS.items():
            text = text.replace(wrong, correct)

        # 중국어 문자 처리
        text = re.sub(r'[\u4e00-\u9fff]+', ' ', text)

        # 깨진 한글 패턴 처리
        text = re.sub(r'[\?]{2,}', ' ', text)
        text = re.sub(r'\?[^\s\.,;:!\"\'\(\)\?]+', ' ', text)

        return text

    def clean_text(self, text):
        """텍스트 정제 함수"""
        if not isinstance(text, str):
            return ""

        # 한글 인코딩 오류 수정
        text = self.fix_korean_encoding(text)

        # 이스케이프 시퀀스 제거
        text = re.sub(r'_x000D_', '', text)
        text = re.sub(r'\\n', '\n', text)
        text = re.sub(r'\*x000D\*', '', text)

        # 문자열 내 남은 깨진 한글 패턴 제거
        text = re.sub(r'[\?][^\s\.,;:!\"\'\(\)]*', ' ', text)

        # 연속된 공백 제거
        text = re.sub(r'\s+', ' ', text)

        # 여러 줄바꿈을 하나로 통일
        text = re.sub(r'\n\s*\n+', '\n\n', text)

        return text.strip()

    def extract_other_organs_with_context(self, text):
        """다른 장기 언급과 관련 컨텍스트를 함께 추출"""
        if not text:
            return ""

        # 주요 복부 장기 패턴 (영어와 한글)
        organ_patterns = {
            'liver/간': re.compile(r'\bliver\b|\bhepatic\b|\b간\b', re.IGNORECASE),
            'gallbladder/담낭': re.compile(r'\bgallbladder\b|\bgb\b|\b담낭\b', re.IGNORECASE),
            'spleen/비장': re.compile(r'\bspleen\b|\bsplenic\b|\b비장\b', re.IGNORECASE),
            'kidney/신장': re.compile(r'\bkidney\b|\brenal\b|\b신장\b', re.IGNORECASE),
            'stomach/위': re.compile(r'\bstomach\b|\bgastric\b|\b위\b(?!치|험)', re.IGNORECASE),
            'colon/대장': re.compile(r'\bcolon\b|\bcolonic\b|\b대장\b', re.IGNORECASE),
            'duodenum/십이지장': re.compile(r'\bduodenum\b|\bduodenal\b|\b십이지장\b', re.IGNORECASE),
            'bile duct/담도': re.compile(r'\bbile duct\b|\bbiliary\b|\b담도\b', re.IGNORECASE),
            'CBD/총담관': re.compile(r'\bcommon bile duct\b|\bcbd\b|\b총담관\b', re.IGNORECASE)
        }

        # 관련 소견 및 병변 패턴
        finding_patterns = {
            'lesion': re.compile(r'\blesion\b|\bmass\b|\bnodule\b|\btumor\b|\bcyst\b', re.IGNORECASE),
            'polyp': re.compile(r'\bpolyp\b|\bpolypoid\b', re.IGNORECASE),
            'stone': re.compile(r'\bstone\b|\bcalculus\b|\bcalculi\b', re.IGNORECASE),
            'fatty': re.compile(r'\bfatty\b|\bsteatosis\b|\bfatty change\b', re.IGNORECASE),
            'cirrhosis': re.compile(r'\bcirrhosis\b|\bcirrhotic\b', re.IGNORECASE),
            'enlargement': re.compile(r'\benlargement\b|\benlarged\b|\bhepatosplenomegaly\b|\bhepatomegaly\b|\bsplenomegaly\b', re.IGNORECASE),
            'cystic': re.compile(r'\bcystic\b|\bsimple cyst\b', re.IGNORECASE),
            'inflammation': re.compile(r'\binflammation\b|\binflammatory\b|\b-itis\b', re.IGNORECASE),
            'adenoma': re.compile(r'\badenoma\b', re.IGNORECASE),
            '병변': re.compile(r'\b병변\b', re.IGNORECASE),
            '결절': re.compile(r'\b결절\b', re.IGNORECASE),
            '낭종': re.compile(r'\b낭종\b', re.IGNORECASE),
            '폴립': re.compile(r'\b폴립\b', re.IGNORECASE),
            '종괴': re.compile(r'\b종괴\b', re.IGNORECASE),
            '결석': re.compile(r'\b결석\b', re.IGNORECASE),
            '지방': re.compile(r'\b지방\b', re.IGNORECASE),
            '경변': re.compile(r'\b경변\b', re.IGNORECASE),
            '염증': re.compile(r'\b염증\b', re.IGNORECASE),
            '선종': re.compile(r'\b선종\b', re.IGNORECASE)
        }

        organ_findings = []

        # 텍스트를 문장으로 분리
        sentences = re.split(r'(?<=[.?!])\s+', text)

        for sentence in sentences:
            # 각 문장에서 장기 패턴 검색
            for organ_name, organ_pattern in organ_patterns.items():
                if organ_pattern.search(sentence):
                    organ_match = organ_pattern.search(sentence)

                    # 해당 문장에서 소견 패턴 검색
                    findings = []
                    for finding_name, finding_pattern in finding_patterns.items():
                        if finding_pattern.search(sentence):
                            findings.append(finding_name)

                    # 소견이 있으면 "장기: 소견" 형태로 추가
                    if findings:
                        organ_context = f"{organ_name}: {', '.join(findings)}"
                        # 앞뒤 문맥 포함
                        start = max(0, organ_match.start() - 20)
                        end = min(len(sentence), organ_match.end() + 40)
                        context = sentence[start:end].strip()
                        organ_context += f" ({context})"
                        organ_findings.append(organ_context)
                    else:
                        # 소견이 없으면 문장 일부만 추가
                        start = max(0, organ_match.start() - 10)
                        end = min(len(sentence), organ_match.end() + 25)
                        context = sentence[start:end].strip()
                        organ_findings.append(f"{organ_name} ({context})")

        # 결과가 너무 길면 잘라내기
        result = "; ".join(organ_findings)
        if len(result) > 1000:  # 최대 길이 제한
            result = result[:997] + "..."

        return result

    def advanced_extract_lesion_features(self, conclusion, report_text=None):
        """
        정교한 병변 특성 추출 함수
        - 형태학적 특징 기반 병변 분류
        - 일반 cyst와 특수 유형(IPMN, septated cyst 등) 구분
        - 원문의 병변 묘사를 최대한 보존
        """
        if not conclusion:
            return {
                'lesion_presence': 'No',
                'lesion_type': '',
                'complex_lesion_type': '',
                'multiplicity': 'No',
                'location': '',
                'size': '',
                'signal_intensity': '',
                'change': '',
                'other_organs': ''
            }

        # 결과 초기화
        features = {
            'lesion_presence': 'No',
            'lesion_type': '',
            'complex_lesion_type': '',
            'multiplicity': 'No',
            'location': '',
            'size': '',
            'signal_intensity': '',
            'change': '',
            'other_organs': ''
        }

        # 텍스트 정제
        conclusion = self.clean_text(conclusion)
        if report_text:
            report_text = self.clean_text(report_text)

        # 모든 텍스트 결합 (일부 정보는 report_text에만 있을 수 있음)
        combined_text = conclusion
        if report_text:
            combined_text += " " + report_text

        # 항목별로 분리
        items = []
        numbered_items = re.split(r'\n\s*\d+\.', conclusion)

        if len(numbered_items) <= 1:
            # 번호 매김이 없는 경우 문장 단위로 분리
            items = re.split(r'(?<=[.?!])\s+', conclusion)
        else:
            # 번호 매김이 있는 경우
            for item in numbered_items:
                if not item.strip():
                    continue
                if item == numbered_items[0] and not re.match(r'^\s*\d+\.', conclusion):
                    items.append(item.strip())
                else:
                    items.append(re.sub(r'^\s*\d+\.', '', item).strip())

        # 췌장 관련 항목만 필터링
        pancreas_items = []
        for item in items:
            if not item:
                continue
            # 췌장 관련 항목인지 확인
            if re.search(r'\b(?:pancreas|pancreatic|IPMN|p-duct|췌장)\b', item, re.IGNORECASE):
                pancreas_items.append(item)

        # 전체 텍스트에서도 췌장 관련 문장 추출
        if report_text and not pancreas_items:
            sentences = re.split(r'(?<=[.?!])\s+', report_text)
            for sentence in sentences:
                if re.search(r'\b(?:pancreas|pancreatic|IPMN|p-duct|췌장)\b', sentence, re.IGNORECASE):
                    pancreas_items.append(sentence.strip())

        # 췌장 관련 항목이 없으면 종료
        if not pancreas_items:
            return features

        # 병변 세부 유형 분류를 위한 키워드 정의
        lesion_type_keywords = {
            # IPMN과 관련 변형
            'IPMN': [
                r'\bIPMN\b',
                r'\bbranch duct type\b',
                r'\bmain duct type\b',
                r'\bintraductal papillary mucinous\b',
                r'\bpapillary mucinous\b'
            ],

            # Cystic 변형들
            'cystic lesion': [
                r'\bcystic lesion\b',
                r'\bcystic\b',
                r'\bcyst\b'
            ],

            # Dilatation
            'dilatation': [
                r'\bdilatation\b',
                r'\bdilated\b',
                r'\bdilation\b'
            ],

            # Nodule
            'nodule': [
                r'\bnodule\b',
                r'\bnodular\b'
            ],

            # Mass
            'mass': [
                r'\bmass\b'
            ],

            # Tumor
            'tumor': [
                r'\btumor\b',
                r'\bneoplasm\b',
                r'\bneoplastic\b'
            ],

            # 기타 병변
            'lesion': [
                r'\blesion\b'
            ]
        }

        # 우선순위 순서 (특이성이 높은 것부터 낮은 것 순)
        lesion_priority = [
            'IPMN',
            'tumor',
            'nodule',
            'mass',
            'dilatation',
            'cystic lesion',
            'lesion'
        ]

        # 부정 표현 패턴 (no change, no interval change는 제외)
        negative_pattern = re.compile(r'\bno\s+(?!change|interval)\b|\bnot\b|\bnormal\b|\babsence\b', re.IGNORECASE)

        # 위치, 크기, 유형 정보 추출
        locations = []
        sizes = []
        detected_lesion_types = set()
        lesion_descriptions = []

        # 각 췌장 관련 항목에서 병변 정보 추출
        for item in pancreas_items:
            # 부정 표현 확인
            is_negative = negative_pattern.search(item) and not re.search(r'no\s+(?:interval\s+)?change', item, re.IGNORECASE)
            if is_negative and not re.search(r'R/O|->|-->|rule out|differential|impression', item, re.IGNORECASE):
                continue  # 명확한 부정 표현이 있으면 건너뛰기

            # 병변 유형 추출
            for lesion_type, patterns in lesion_type_keywords.items():
                for pattern in patterns:
                    if re.search(pattern, item, re.IGNORECASE):
                        detected_lesion_types.add(lesion_type)

                        # 병변 묘사 추출
                        match = re.search(pattern, item, re.IGNORECASE)
                        if match:
                            start = max(0, match.start() - 15)
                            end = min(len(item), match.end() + 15)
                            context = item[start:end].strip()
                            context = re.sub(r'^[^\w]*', '', context)
                            context = re.sub(r'[^\w]*$', '', context)
                            lesion_descriptions.append(context)
                        break

            # 위치 정보 추출
            for location, pattern in self.LOCATION_PATTERNS.items():
                if pattern.search(item):
                    locations.append(location)

            # 크기 정보 추출 - 기본 패턴
            size_matches = self.SIZE_PATTERN.findall(item)
            if size_matches:
                sizes.extend(size_matches)

            # 추가 크기 패턴 적용
            for pattern in self.ADDITIONAL_SIZE_PATTERNS:
                more_sizes = pattern.findall(item)
                if more_sizes:
                    # 튜플로 반환되는 경우 (범위 표현 등) 처리
                    for match in more_sizes:
                        if isinstance(match, tuple):
                            sizes.extend(match)
                        else:
                            sizes.append(match)

        # 변화 정보 추출
        change_matches = self.CHANGE_PATTERN.findall(combined_text)
        if change_matches:
            # 중복 제거 및 변화 정보 조합
            unique_changes = sorted(set(change_matches))
            features['change'] = ', '.join(unique_changes)

        # 신호 강도 정보 추출
        signal_matches = self.SIGNAL_PATTERN.findall(combined_text)
        if signal_matches:
            # 중복 제거 및 신호 강도 정보 조합
            unique_signals = sorted(set(signal_matches))
            features['signal_intensity'] = ', '.join(unique_signals)

        # 병변이 감지되었으면 'lesion_presence'를 'Yes'로 설정
        if detected_lesion_types:
            features['lesion_presence'] = 'Yes'

            # 우선순위에 따라 가장 구체적인 병변 유형 선택
            for lesion_type in lesion_priority:
                if lesion_type in detected_lesion_types:
                    features['lesion_type'] = lesion_type
                    break

            # 병변 묘사가 있으면 병변 유형에 포함
            if lesion_descriptions and not features['lesion_type']:
                # 가장 긴 묘사 선택 (일반적으로 더 구체적)
                longest_description = max(lesion_descriptions, key=len)
                if len(longest_description) > 3:  # 최소 길이 확인
                    features['lesion_type'] = longest_description

        # Complex lesion type 추출
        for complex_type, patterns in self.COMPLEX_LESION_TYPES.items():
            for pattern in patterns:
                if re.search(pattern, combined_text, re.IGNORECASE):
                    features['complex_lesion_type'] = complex_type
                    break
            if features['complex_lesion_type']:
                break

        # 위치 정보 병합
        if locations:
            features['location'] = ', '.join(sorted(set(locations)))

        # 크기 정보 병합
        if sizes:
            # 중복 제거 및 숫자로 정렬
            unique_sizes = sorted(set(sizes), key=lambda x: float(x))
            features['size'] = ', '.join(unique_sizes)

        # 다발성 여부 판단
        combined_text = ' '.join(pancreas_items)

        # 다발성 관련 키워드 확인
        multiplicity_terms = [
            'multiple', 'several', 'a few', 'few', 'two', 'three', 'four', 'five',
            'many', 'numerous', 'both', 'bilateral', 'multifocal'
        ]

        # 다발성 판단
        for term in multiplicity_terms:
            if re.search(r'\b' + term + r'\b', combined_text, re.IGNORECASE):
                features['multiplicity'] = 'Yes'
                break

        # 위치가 2개 이상이면 다발성으로 간주
        if len(set(locations)) >= 2:
            features['multiplicity'] = 'Yes'

        # no change 표현이 있어도 병변 유형이 감지되면 'lesion_presence'를 'Yes'로 설정
        if re.search(r'\bno\s+(?:interval\s+)?change\b', combined_text, re.IGNORECASE) and detected_lesion_types:
            features['lesion_presence'] = 'Yes'

        # other_organs 필드 추출
        features['other_organs'] = self.extract_other_organs_with_context(combined_text)

        return features

    def process_file(self, df):
        """
        판독문 데이터를 처리하여 병변 특성을 추출하고 결과 데이터프레임을 반환
        """
        results = []

        for idx, row in df.iterrows():
            # 필수 필드 추출 (ID, 검사코드 포함)
            patient_id = row.get('변환 ID', '')  # ID 컬럼명
            exam_code = row.get('검사코드#5', '')  # 검사코드 컬럼명
            exam_date = row.get('처방일자#3', '')
            exam_type = row.get('검사명#6', '')
            report_text = row.get('검사결과(text)#7', '')
            conclusion = row.get('결론및진단#8', '')

            # 병변 특성 추출
            lesion_features = self.advanced_extract_lesion_features(conclusion, report_text)

            # 결과 통합 - ID와 검사코드를 맨 앞에 추가
            result = {
                'id': patient_id,
                'exam_code': exam_code,
                'exam_type': exam_type,
                'exam_date': exam_date,
                'lesion_presence': lesion_features.get('lesion_presence', 'No'),
                'lesion_type': lesion_features.get('lesion_type', ''),
                'complex_lesion_type': lesion_features.get('complex_lesion_type', ''),
                'multiplicity': lesion_features.get('multiplicity', 'No'),
                'location': lesion_features.get('location', ''),
                'size': lesion_features.get('size', ''),
                'signal_intensity': lesion_features.get('signal_intensity', ''),
                'change': lesion_features.get('change', ''),
                'other_organs': lesion_features.get('other_organs', ''),
                'conclusion': conclusion
            }

            results.append(result)

        return pd.DataFrame(results)


# 분석 실행 함수
def run_updated_analyzer():
    """개선된 분석기로 실행하는 함수"""
    print("판독문 데이터 파일을 업로드해주세요:")

    # 파일 업로드
    uploaded = files.upload()

    if not uploaded:
        print("파일이 업로드되지 않았습니다.")
        return None

    # 첫 번째 업로드된 파일 이름 가져오기
    file_name = next(iter(uploaded))
    file_content = uploaded[file_name]

    print(f"파일 '{file_name}' 업로드 완료 ({len(file_content)} bytes)")

    # 분석기 초기화
    analyzer = PancreaticRadiologyAnalyzer()

    # 인코딩 감지
    detected_encoding = analyzer.detect_encoding(file_content)
    print(f"감지된 인코딩: {detected_encoding}")

    # 개선된 process_file 함수와 실행 함수
def improved_process_file(df):
    """
    명시적 인덱싱을 사용하여 데이터 처리 (클래스 메서드가 아닌 독립 함수)
    """
    analyzer = PancreaticRadiologyAnalyzer()
    results = []

    # 각 행 처리
    for idx, row in df.iterrows():
        # ID와 코드를 명시적으로 추출
        patient_id = str(row['변환 ID'])
        exam_code = str(row['검사코드#5'])
        exam_date = str(row['처방일자#3'])
        exam_type = str(row['검사명#6'])
        report_text = str(row['검사결과(text)#7'])
        conclusion = str(row['결론및진단#8'])

        # 병변 특성 추출
        lesion_features = analyzer.advanced_extract_lesion_features(conclusion, report_text)

        # 결과 구성
        result = {
            'id': patient_id,
            'exam_code': exam_code,
            'exam_type': exam_type,
            'exam_date': exam_date,
            'lesion_presence': lesion_features.get('lesion_presence', 'No'),
            'lesion_type': lesion_features.get('lesion_type', ''),
            'complex_lesion_type': lesion_features.get('complex_lesion_type', ''),
            'multiplicity': lesion_features.get('multiplicity', 'No'),
            'location': lesion_features.get('location', ''),
            'size': lesion_features.get('size', ''),
            'signal_intensity': lesion_features.get('signal_intensity', ''),
            'change': lesion_features.get('change', ''),
            'other_organs': lesion_features.get('other_organs', ''),
            'conclusion': conclusion
        }

        results.append(result)

    return pd.DataFrame(results)

def run_improved_analyzer():
    """독립 함수 방식으로 실행"""
    print("판독문 데이터 파일을 업로드해주세요:")

    # 파일 업로드
    uploaded = files.upload()

    if not uploaded:
        print("파일이 업로드되지 않았습니다.")
        return None

    # 첫 번째 업로드된 파일 이름 가져오기
    file_name = next(iter(uploaded))
    file_content = uploaded[file_name]

    print(f"파일 '{file_name}' 업로드 완료 ({len(file_content)} bytes)")

    # 분석기 초기화
    analyzer = PancreaticRadiologyAnalyzer()

    # 인코딩 감지
    detected_encoding = analyzer.detect_encoding(file_content)
    print(f"감지된 인코딩: {detected_encoding}")

    # 파일 형식에 따라 데이터프레임으로 변환
    try:
        if file_name.endswith('.xlsx') or file_name.endswith('.xls'):
            df = pd.read_excel(io.BytesIO(file_content), engine='openpyxl')
        else:
            # 여러 인코딩 시도
            try:
                df = pd.read_csv(io.BytesIO(file_content), encoding=detected_encoding)
            except UnicodeDecodeError:
                for encoding in ['utf-8', 'euc-kr', 'cp949', 'latin1']:
                    try:
                        df = pd.read_csv(io.BytesIO(file_content), encoding=encoding)
                        break
                    except UnicodeDecodeError:
                        continue
                else:
                    df = pd.read_csv(io.BytesIO(file_content), encoding='utf-8', errors='replace')
    except Exception as e:
        print(f"파일 로드 오류: {str(e)}")
        return None

    print(f"데이터 로드 완료: {len(df)}개의 레코드")

    # 데이터 전처리
    print("데이터 전처리 중...")
    for col in df.columns:
        if df[col].dtype == 'object':
            df[col] = df[col].apply(lambda x: analyzer.clean_text(x) if isinstance(x, str) else x)

    # 개선된 프로세스 함수 사용
    print("판독문 분석 중...")
    result_df = improved_process_file(df)

    # 결과 확인
    if not result_df.empty:
        print("\n== 결과 미리보기 ==")
        pd.set_option('display.max_columns', None)
        pd.set_option('display.width', 1000)
        print(result_df.head())

        # 결과 통계
        print("\n== 분석 결과 요약 ==")
        print(f"병변 존재 여부: {result_df['lesion_presence'].value_counts().to_dict()}")

        # 병변 유형 통계
        if 'Yes' in result_df['lesion_presence'].values:
            lesion_types = result_df[result_df['lesion_presence'] == 'Yes']['lesion_type'].value_counts()
            if not lesion_types.empty:
                print(f"병변 유형: {lesion_types.to_dict()}")

            complex_types = result_df[result_df['lesion_presence'] == 'Yes']['complex_lesion_type'].value_counts()
            if not complex_types.empty and complex_types.sum() > 0:
                print(f"복합 병변 유형: {complex_types.to_dict()}")

        # 다발성 통계
        if 'Yes' in result_df['multiplicity'].values:
            print(f"다발성 병변: {result_df['multiplicity'].value_counts().to_dict()}")

        # 위치별 통계
        location_data = []
        for loc in result_df['location']:
            if loc:
                location_data.extend([l.strip() for l in str(loc).split(',')])

        if location_data:
            location_counts = Counter(location_data)
            print(f"위치별 빈도: {dict(location_counts)}")

        # 저장 및 다운로드
        output_filename = file_name.split('.')[0] + "_analyzed_improved.csv"
        result_df.to_csv(output_filename, index=False, encoding='utf-8-sig')
        print(f"\n분석 결과가 '{output_filename}'에 저장되었습니다.")
        files.download(output_filename)

        return result_df
    else:
        print("분석 결과가 없습니다.")
        return None

# 개선된 함수 실행
run_improved_analyzer()
